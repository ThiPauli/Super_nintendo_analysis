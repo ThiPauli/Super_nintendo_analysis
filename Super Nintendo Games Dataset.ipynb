{
 "cells": [
  {
   "cell_type": "markdown",
   "id": "8b6523fa",
   "metadata": {},
   "source": [
    "## Super Nintendo Games Dataset\n",
    "- Scrapping the list table with MechanicalSoup from wikipedia page"
   ]
  },
  {
   "cell_type": "code",
   "execution_count": 4,
   "id": "d857d4eb",
   "metadata": {},
   "outputs": [],
   "source": [
    "import mechanicalsoup\n",
    "import pandas as pd\n",
    "import numpy as np\n",
    "import matplotlib.pyplot as plt\n",
    "import seaborn as sns\n",
    "import os"
   ]
  },
  {
   "cell_type": "code",
   "execution_count": 3,
   "id": "e9610801",
   "metadata": {},
   "outputs": [
    {
     "data": {
      "text/plain": [
       "<Response [200]>"
      ]
     },
     "execution_count": 3,
     "metadata": {},
     "output_type": "execute_result"
    }
   ],
   "source": [
    "#creating the browser object\n",
    "browser = mechanicalsoup.StatefulBrowser()\n",
    "\n",
    "#specifying the html\n",
    "browser.open('https://en.wikipedia.org/wiki/List_of_Super_Nintendo_Entertainment_System_games')"
   ]
  },
  {
   "cell_type": "code",
   "execution_count": null,
   "id": "7184e544",
   "metadata": {},
   "outputs": [],
   "source": [
    "#extract table data\n",
    "\n",
    "td = browser.page.find_all('td')\n",
    "columns = [value.text.replace('\\n', '') for value in td]\n",
    "columns = columns[:12297]\n",
    "\n",
    "print(columns)\n",
    "#as we get all table data for all tables, I'll slice off until the index which match 'Donkey Kong Country: Blockbuster World Video Game Championship II'"
   ]
  },
  {
   "cell_type": "code",
   "execution_count": 132,
   "id": "a19d0fa3",
   "metadata": {},
   "outputs": [
    {
     "name": "stdout",
     "output_type": "stream",
     "text": [
      "2631\n"
     ]
    }
   ],
   "source": [
    "# if prints this command to see all elements in the last column (ref), it seems some values in the first column are here\n",
    "# columns[6:][::7]\n",
    "print(columns.index('Fever Pitch Soccer•Head-On SoccerNA'))"
   ]
  },
  {
   "cell_type": "code",
   "execution_count": 133,
   "id": "deab27ba",
   "metadata": {},
   "outputs": [
    {
     "data": {
      "text/plain": [
       "['Feda: The Emblem of Justice',\n",
       " 'Max Entertainment',\n",
       " 'Yanoman',\n",
       " 'October 28, 1994',\n",
       " 'Unreleased',\n",
       " 'Unreleased',\n",
       " 'Fever Pitch Soccer•Head-On SoccerNA']"
      ]
     },
     "execution_count": 133,
     "metadata": {},
     "output_type": "execute_result"
    }
   ],
   "source": [
    "# we see that from 'Feda: The Emblem of Justice' to 'Fever Pitch Soccer•Head-On SoccerNA' there are only 6 values.\n",
    "# In the wikipedia page it is missing a value there, so our table looks weird.\n",
    "# I will insert ref '' for this row.\n",
    "columns[2625:2632]"
   ]
  },
  {
   "cell_type": "code",
   "execution_count": 134,
   "id": "94952a50",
   "metadata": {},
   "outputs": [],
   "source": [
    "columns.insert(2631, '')"
   ]
  },
  {
   "cell_type": "code",
   "execution_count": 136,
   "id": "f35711fb",
   "metadata": {},
   "outputs": [
    {
     "name": "stdout",
     "output_type": "stream",
     "text": [
      "6222\n"
     ]
    }
   ],
   "source": [
    "#Here is the same problem.\n",
    "print(columns.index('Mr. Do!'))\n",
    "columns.insert(6222, '')"
   ]
  },
  {
   "cell_type": "code",
   "execution_count": 137,
   "id": "8d2c87e3",
   "metadata": {},
   "outputs": [
    {
     "name": "stdout",
     "output_type": "stream",
     "text": [
      "6223\n"
     ]
    }
   ],
   "source": [
    "print(columns.index('Mr. Do!'))"
   ]
  },
  {
   "cell_type": "code",
   "execution_count": null,
   "id": "69d36f4e",
   "metadata": {},
   "outputs": [],
   "source": [
    "# Selecting every column, 7 columns total\n",
    "\n",
    "#Selecting every 7th item, starting with the first one, which are all items for the first column\n",
    "print(columns[0:][::7])\n",
    "# print(columns[1:][::7]) , every second item, for the second colum and so on."
   ]
  },
  {
   "cell_type": "code",
   "execution_count": 145,
   "id": "77ff6610",
   "metadata": {},
   "outputs": [],
   "source": [
    "column_names = ['Title', 'Developer(s)', 'Publisher(s)', 'Japan', 'North_America', 'PAL_region', 'Ref.']\n",
    "info_games_dict = {}\n",
    "\n",
    "for idx, key in enumerate(column_names):\n",
    "    info_games_dict[key] = columns[idx:][::7]"
   ]
  },
  {
   "cell_type": "markdown",
   "id": "0dd06631",
   "metadata": {},
   "source": [
    "### Save/reload the data"
   ]
  },
  {
   "cell_type": "code",
   "execution_count": 156,
   "id": "d6bd8274",
   "metadata": {},
   "outputs": [],
   "source": [
    "import json\n",
    "\n",
    "def save_data(title, data):\n",
    "    with open(title, 'w', encoding='utf-8') as f:\n",
    "        json.dump(data, f, ensure_ascii=False, indent=3)df.info()"
   ]
  },
  {
   "cell_type": "code",
   "execution_count": 162,
   "id": "a6df9a60",
   "metadata": {},
   "outputs": [],
   "source": [
    "save_data('snes_data.json', info_games_dict)"
   ]
  },
  {
   "cell_type": "code",
   "execution_count": 6,
   "id": "fef5d88e",
   "metadata": {},
   "outputs": [],
   "source": [
    "import json\n",
    "\n",
    "def load_data(title):\n",
    "    with open(title, encoding='utf-8') as f:\n",
    "        return json.load(f)"
   ]
  },
  {
   "cell_type": "code",
   "execution_count": 7,
   "id": "a8ed1d9c",
   "metadata": {},
   "outputs": [],
   "source": [
    "info_games_dict = load_data('snes_data.json')"
   ]
  },
  {
   "cell_type": "code",
   "execution_count": 8,
   "id": "c40e0c72",
   "metadata": {},
   "outputs": [
    {
     "data": {
      "text/html": [
       "<div>\n",
       "<style scoped>\n",
       "    .dataframe tbody tr th:only-of-type {\n",
       "        vertical-align: middle;\n",
       "    }\n",
       "\n",
       "    .dataframe tbody tr th {\n",
       "        vertical-align: top;\n",
       "    }\n",
       "\n",
       "    .dataframe thead th {\n",
       "        text-align: right;\n",
       "    }\n",
       "</style>\n",
       "<table border=\"1\" class=\"dataframe\">\n",
       "  <thead>\n",
       "    <tr style=\"text-align: right;\">\n",
       "      <th></th>\n",
       "      <th>Title</th>\n",
       "      <th>Developer(s)</th>\n",
       "      <th>Publisher(s)</th>\n",
       "      <th>Japan</th>\n",
       "      <th>North_America</th>\n",
       "      <th>PAL_region</th>\n",
       "      <th>Ref.</th>\n",
       "    </tr>\n",
       "  </thead>\n",
       "  <tbody>\n",
       "    <tr>\n",
       "      <th>0</th>\n",
       "      <td>3 Ninjas Kick Back</td>\n",
       "      <td>Malibu Interactive</td>\n",
       "      <td>Sony Imagesoft</td>\n",
       "      <td>Unreleased</td>\n",
       "      <td>June 19, 1994</td>\n",
       "      <td>Unreleased</td>\n",
       "      <td></td>\n",
       "    </tr>\n",
       "    <tr>\n",
       "      <th>1</th>\n",
       "      <td>3×3 Eyes Juuma Houkan</td>\n",
       "      <td>System Supply N-Tech</td>\n",
       "      <td>Banpresto</td>\n",
       "      <td>December 22, 1995</td>\n",
       "      <td>Unreleased</td>\n",
       "      <td>Unreleased</td>\n",
       "      <td></td>\n",
       "    </tr>\n",
       "    <tr>\n",
       "      <th>2</th>\n",
       "      <td>3×3 Eyes Seima Kourin-den</td>\n",
       "      <td>Nova Games</td>\n",
       "      <td>Yutaka</td>\n",
       "      <td>July 28, 1992</td>\n",
       "      <td>Unreleased</td>\n",
       "      <td>Unreleased</td>\n",
       "      <td></td>\n",
       "    </tr>\n",
       "    <tr>\n",
       "      <th>3</th>\n",
       "      <td>3rd Super Robot Wars</td>\n",
       "      <td>Banpresto</td>\n",
       "      <td>Banpresto</td>\n",
       "      <td>July 23, 1993</td>\n",
       "      <td>Unreleased</td>\n",
       "      <td>Unreleased</td>\n",
       "      <td></td>\n",
       "    </tr>\n",
       "    <tr>\n",
       "      <th>4</th>\n",
       "      <td>4 Nin Shougi</td>\n",
       "      <td>Planning Office Wada</td>\n",
       "      <td>Planning Office Wada</td>\n",
       "      <td>July 14, 1995</td>\n",
       "      <td>Unreleased</td>\n",
       "      <td>Unreleased</td>\n",
       "      <td></td>\n",
       "    </tr>\n",
       "  </tbody>\n",
       "</table>\n",
       "</div>"
      ],
      "text/plain": [
       "                       Title          Developer(s)          Publisher(s)  \\\n",
       "0         3 Ninjas Kick Back    Malibu Interactive        Sony Imagesoft   \n",
       "1      3×3 Eyes Juuma Houkan  System Supply N-Tech             Banpresto   \n",
       "2  3×3 Eyes Seima Kourin-den            Nova Games                Yutaka   \n",
       "3       3rd Super Robot Wars             Banpresto             Banpresto   \n",
       "4               4 Nin Shougi  Planning Office Wada  Planning Office Wada   \n",
       "\n",
       "               Japan  North_America  PAL_region Ref.  \n",
       "0         Unreleased  June 19, 1994  Unreleased       \n",
       "1  December 22, 1995     Unreleased  Unreleased       \n",
       "2      July 28, 1992     Unreleased  Unreleased       \n",
       "3      July 23, 1993     Unreleased  Unreleased       \n",
       "4      July 14, 1995     Unreleased  Unreleased       "
      ]
     },
     "execution_count": 8,
     "metadata": {},
     "output_type": "execute_result"
    }
   ],
   "source": [
    "df = pd.DataFrame(data=info_games_dict)\n",
    "df.head()"
   ]
  },
  {
   "cell_type": "code",
   "execution_count": 9,
   "id": "6368e8d2",
   "metadata": {},
   "outputs": [],
   "source": [
    "# Creating the images folder for saving the graphs later\n",
    "\n",
    "image_path = './images/'\n",
    "if not os.path.exists(image_path):\n",
    "    os.makedirs(image_path)"
   ]
  },
  {
   "cell_type": "code",
   "execution_count": 10,
   "id": "0c45083b",
   "metadata": {},
   "outputs": [
    {
     "name": "stdout",
     "output_type": "stream",
     "text": [
      "<class 'pandas.core.frame.DataFrame'>\n",
      "RangeIndex: 1757 entries, 0 to 1756\n",
      "Data columns (total 7 columns):\n",
      " #   Column         Non-Null Count  Dtype \n",
      "---  ------         --------------  ----- \n",
      " 0   Title          1757 non-null   object\n",
      " 1   Developer(s)   1757 non-null   object\n",
      " 2   Publisher(s)   1757 non-null   object\n",
      " 3   Japan          1757 non-null   object\n",
      " 4   North_America  1757 non-null   object\n",
      " 5   PAL_region     1757 non-null   object\n",
      " 6   Ref.           1757 non-null   object\n",
      "dtypes: object(7)\n",
      "memory usage: 96.2+ KB\n"
     ]
    }
   ],
   "source": [
    "df.info()"
   ]
  },
  {
   "cell_type": "code",
   "execution_count": 11,
   "id": "52a9de7c",
   "metadata": {},
   "outputs": [
    {
     "data": {
      "text/plain": [
       "(1757, 7)"
      ]
     },
     "execution_count": 11,
     "metadata": {},
     "output_type": "execute_result"
    }
   ],
   "source": [
    "df.shape"
   ]
  },
  {
   "cell_type": "markdown",
   "id": "12d3d92d",
   "metadata": {},
   "source": [
    "### The dataset contains a list of 1757 official releases games of SNES."
   ]
  },
  {
   "cell_type": "code",
   "execution_count": 12,
   "id": "af1b282f",
   "metadata": {},
   "outputs": [],
   "source": [
    "#Converting column objects to datatime\n",
    "\n",
    "df['Realese_JP'] = pd.to_datetime(df['Japan'], errors='coerce')\n",
    "df['Realese_North_America'] = pd.to_datetime(df['North_America'], errors='coerce')\n",
    "df['Realese_PAL_region'] = pd.to_datetime(df['PAL_region'], errors='coerce')"
   ]
  },
  {
   "cell_type": "code",
   "execution_count": 13,
   "id": "ac992b7c",
   "metadata": {},
   "outputs": [],
   "source": [
    "#getting the year and month for each region\n",
    "\n",
    "#Japan\n",
    "df['Year_JP'] = df['Realese_JP'].dt.year\n",
    "df['Year_JP'] = df['Year_JP'].astype('Int64') # as there are NaN, it returns floats, so I converted it to int 64\n",
    "\n",
    "df['Month_JP'] = df['Realese_JP'].dt.month\n",
    "df['Month_JP'] = df['Month_JP'].astype('Int64')\n",
    "\n",
    "#North America\n",
    "df['Year_North_America'] = df['Realese_North_America'].dt.year\n",
    "df['Year_North_America'] = df['Year_North_America'].astype('Int64')\n",
    "\n",
    "df['Month_North_America'] = df['Realese_North_America'].dt.month\n",
    "df['Month_North_America'] = df['Month_North_America'].astype('Int64')\n",
    "\n",
    "#PAL\n",
    "df['Year_PAL'] = df['Realese_PAL_region'].dt.year\n",
    "df['Year_PAL'] = df['Year_PAL'].astype('Int64')\n",
    "\n",
    "df['Month_PAL'] = df['Realese_PAL_region'].dt.month\n",
    "df['Month_PAL'] = df['Month_PAL'].astype('Int64')"
   ]
  },
  {
   "cell_type": "code",
   "execution_count": 14,
   "id": "f2adf69a",
   "metadata": {},
   "outputs": [],
   "source": [
    "#Grouping the data by year and month for each region\n",
    "\n",
    "df_analysis_JP = df.groupby(['Year_JP', 'Month_JP']).count()\n",
    "df_analysis_NA = df.groupby(['Year_North_America', 'Month_North_America']).count()\n",
    "df_analysis_PAL = df.groupby(['Year_PAL', 'Month_PAL']).count()"
   ]
  },
  {
   "cell_type": "markdown",
   "id": "3967edb5",
   "metadata": {},
   "source": [
    "#### Monthly plot of the number of releses per year"
   ]
  },
  {
   "cell_type": "code",
   "execution_count": 15,
   "id": "282c9151",
   "metadata": {},
   "outputs": [
    {
     "data": {
      "image/png": "[encoded data removed]",
      "text/plain": [
       "<Figure size 1080x360 with 3 Axes>"
      ]
     },
     "metadata": {
      "needs_background": "light"
     },
     "output_type": "display_data"
    }
   ],
   "source": [
    "fig, axes = plt.subplots(1,3 , figsize=(15, 5), sharey=True)\n",
    "fig.suptitle('Monthly number of realeses per year', fontsize=18)\n",
    "\n",
    "#defining the months to put in the legend.\n",
    "months = [\"Jan\", \"Feb\", \"Mar\", \"Apr\", \"May\", \"Jun\", \"Jul\", \"Aug\", \"Sept\", \"Oct\", \"Nov\", \"Dec\"]\n",
    "\n",
    "#Japan\n",
    "sns.lineplot(ax=axes[0], data=df_analysis_JP, x=\"Year_JP\", y=\"Title\", hue=\"Month_JP\", legend=\"full\")\n",
    "axes[0].set_title('Japan', fontsize=15)\n",
    "axes[0].set(xlabel='Year', ylabel = 'Number of releases')\n",
    "axes[0].legend(labels=months, title = \"Month\")\n",
    "\n",
    "#North America\n",
    "sns.lineplot(ax=axes[1], data=df_analysis_NA, x=\"Year_North_America\", y=\"Title\", hue=\"Month_North_America\", legend=\"full\")\n",
    "axes[1].set_title('North America', fontsize=15)\n",
    "axes[1].set(xlabel='Year', ylabel = 'Number of releases')\n",
    "axes[1].legend(labels=months, title = \"Month\")\n",
    "\n",
    "#PAL region\n",
    "sns.lineplot(ax=axes[2], data=df_analysis_PAL, x=\"Year_PAL\", y=\"Title\", hue=\"Month_PAL\", legend=\"full\")\n",
    "axes[2].set_title('PAL region', fontsize=15)\n",
    "axes[2].set(xlabel='Year', ylabel = 'Number of releases')\n",
    "axes[2].legend(labels=months, title = \"Month\")\n",
    "\n",
    "plt.show()\n",
    "\n",
    "fig.savefig(image_path + 'Monthly_number_realeses_year.png')"
   ]
  },
  {
   "cell_type": "markdown",
   "id": "7f28f11d",
   "metadata": {},
   "source": [
    "#### Some points to consider in this graph:\n",
    "\n",
    "- The first game released in Japan was in November 1990 and the last one was in November 2000.\n",
    "- Japan released more games.\n",
    "- The peak of releasing was in 1994 for both Japan and North America.\n",
    "- The PAL region is not precise, because the data only contain the year, so when converting the data for month, they become the first month (January). Therefore, the PAL region graph shows peaks of releasing in every years of January."
   ]
  },
  {
   "cell_type": "markdown",
   "id": "8613b3ad",
   "metadata": {},
   "source": [
    "#### Ploting the distribution of releasing from Japan"
   ]
  },
  {
   "cell_type": "code",
   "execution_count": 16,
   "id": "fbd82be9",
   "metadata": {},
   "outputs": [],
   "source": [
    "#taking the rows where 'Year_JP' column is not NaN\n",
    "\n",
    "df_japan = df[df['Year_JP'].notna()]"
   ]
  },
  {
   "cell_type": "code",
   "execution_count": 17,
   "id": "861d2ff5",
   "metadata": {},
   "outputs": [
    {
     "data": {
      "image/png": "[encoded data removed]",
      "text/plain": [
       "<Figure size 720x360 with 1 Axes>"
      ]
     },
     "metadata": {
      "needs_background": "light"
     },
     "output_type": "display_data"
    }
   ],
   "source": [
    "fig = sns.catplot(x='Year_JP', data=df_japan, aspect=2, kind=\"count\", color='steelblue')\n",
    "plt.xlabel('Year')\n",
    "plt.ylabel('Number of releases')\n",
    "plt.title(\"Japan\", fontsize=15)\n",
    "\n",
    "\n",
    "\n",
    "fig.savefig(image_path + 'japan_number_realeses_year.png', dpi=300)\n",
    "plt.show()"
   ]
  },
  {
   "cell_type": "markdown",
   "id": "032085be",
   "metadata": {},
   "source": [
    "#### Analysing the game developers"
   ]
  },
  {
   "cell_type": "code",
   "execution_count": 18,
   "id": "ea5af7ff",
   "metadata": {},
   "outputs": [
    {
     "data": {
      "text/html": [
       "<div>\n",
       "<style scoped>\n",
       "    .dataframe tbody tr th:only-of-type {\n",
       "        vertical-align: middle;\n",
       "    }\n",
       "\n",
       "    .dataframe tbody tr th {\n",
       "        vertical-align: top;\n",
       "    }\n",
       "\n",
       "    .dataframe thead th {\n",
       "        text-align: right;\n",
       "    }\n",
       "</style>\n",
       "<table border=\"1\" class=\"dataframe\">\n",
       "  <thead>\n",
       "    <tr style=\"text-align: right;\">\n",
       "      <th></th>\n",
       "      <th>Title</th>\n",
       "      <th>Developer(s)</th>\n",
       "      <th>Publisher(s)</th>\n",
       "      <th>Japan</th>\n",
       "      <th>North_America</th>\n",
       "      <th>PAL_region</th>\n",
       "      <th>Ref.</th>\n",
       "      <th>Realese_JP</th>\n",
       "      <th>Realese_North_America</th>\n",
       "      <th>Realese_PAL_region</th>\n",
       "      <th>Year_JP</th>\n",
       "      <th>Month_JP</th>\n",
       "      <th>Year_North_America</th>\n",
       "      <th>Month_North_America</th>\n",
       "      <th>Year_PAL</th>\n",
       "      <th>Month_PAL</th>\n",
       "    </tr>\n",
       "  </thead>\n",
       "  <tbody>\n",
       "    <tr>\n",
       "      <th>0</th>\n",
       "      <td>3 Ninjas Kick Back</td>\n",
       "      <td>Malibu Interactive</td>\n",
       "      <td>Sony Imagesoft</td>\n",
       "      <td>Unreleased</td>\n",
       "      <td>June 19, 1994</td>\n",
       "      <td>Unreleased</td>\n",
       "      <td></td>\n",
       "      <td>NaT</td>\n",
       "      <td>1994-06-19</td>\n",
       "      <td>NaT</td>\n",
       "      <td>&lt;NA&gt;</td>\n",
       "      <td>&lt;NA&gt;</td>\n",
       "      <td>1994</td>\n",
       "      <td>6</td>\n",
       "      <td>&lt;NA&gt;</td>\n",
       "      <td>&lt;NA&gt;</td>\n",
       "    </tr>\n",
       "    <tr>\n",
       "      <th>1</th>\n",
       "      <td>3×3 Eyes Juuma Houkan</td>\n",
       "      <td>System Supply N-Tech</td>\n",
       "      <td>Banpresto</td>\n",
       "      <td>December 22, 1995</td>\n",
       "      <td>Unreleased</td>\n",
       "      <td>Unreleased</td>\n",
       "      <td></td>\n",
       "      <td>1995-12-22</td>\n",
       "      <td>NaT</td>\n",
       "      <td>NaT</td>\n",
       "      <td>1995</td>\n",
       "      <td>12</td>\n",
       "      <td>&lt;NA&gt;</td>\n",
       "      <td>&lt;NA&gt;</td>\n",
       "      <td>&lt;NA&gt;</td>\n",
       "      <td>&lt;NA&gt;</td>\n",
       "    </tr>\n",
       "    <tr>\n",
       "      <th>2</th>\n",
       "      <td>3×3 Eyes Seima Kourin-den</td>\n",
       "      <td>Nova Games</td>\n",
       "      <td>Yutaka</td>\n",
       "      <td>July 28, 1992</td>\n",
       "      <td>Unreleased</td>\n",
       "      <td>Unreleased</td>\n",
       "      <td></td>\n",
       "      <td>1992-07-28</td>\n",
       "      <td>NaT</td>\n",
       "      <td>NaT</td>\n",
       "      <td>1992</td>\n",
       "      <td>7</td>\n",
       "      <td>&lt;NA&gt;</td>\n",
       "      <td>&lt;NA&gt;</td>\n",
       "      <td>&lt;NA&gt;</td>\n",
       "      <td>&lt;NA&gt;</td>\n",
       "    </tr>\n",
       "    <tr>\n",
       "      <th>3</th>\n",
       "      <td>3rd Super Robot Wars</td>\n",
       "      <td>Banpresto</td>\n",
       "      <td>Banpresto</td>\n",
       "      <td>July 23, 1993</td>\n",
       "      <td>Unreleased</td>\n",
       "      <td>Unreleased</td>\n",
       "      <td></td>\n",
       "      <td>1993-07-23</td>\n",
       "      <td>NaT</td>\n",
       "      <td>NaT</td>\n",
       "      <td>1993</td>\n",
       "      <td>7</td>\n",
       "      <td>&lt;NA&gt;</td>\n",
       "      <td>&lt;NA&gt;</td>\n",
       "      <td>&lt;NA&gt;</td>\n",
       "      <td>&lt;NA&gt;</td>\n",
       "    </tr>\n",
       "    <tr>\n",
       "      <th>4</th>\n",
       "      <td>4 Nin Shougi</td>\n",
       "      <td>Planning Office Wada</td>\n",
       "      <td>Planning Office Wada</td>\n",
       "      <td>July 14, 1995</td>\n",
       "      <td>Unreleased</td>\n",
       "      <td>Unreleased</td>\n",
       "      <td></td>\n",
       "      <td>1995-07-14</td>\n",
       "      <td>NaT</td>\n",
       "      <td>NaT</td>\n",
       "      <td>1995</td>\n",
       "      <td>7</td>\n",
       "      <td>&lt;NA&gt;</td>\n",
       "      <td>&lt;NA&gt;</td>\n",
       "      <td>&lt;NA&gt;</td>\n",
       "      <td>&lt;NA&gt;</td>\n",
       "    </tr>\n",
       "  </tbody>\n",
       "</table>\n",
       "</div>"
      ],
      "text/plain": [
       "                       Title          Developer(s)          Publisher(s)  \\\n",
       "0         3 Ninjas Kick Back    Malibu Interactive        Sony Imagesoft   \n",
       "1      3×3 Eyes Juuma Houkan  System Supply N-Tech             Banpresto   \n",
       "2  3×3 Eyes Seima Kourin-den            Nova Games                Yutaka   \n",
       "3       3rd Super Robot Wars             Banpresto             Banpresto   \n",
       "4               4 Nin Shougi  Planning Office Wada  Planning Office Wada   \n",
       "\n",
       "               Japan  North_America  PAL_region Ref. Realese_JP  \\\n",
       "0         Unreleased  June 19, 1994  Unreleased             NaT   \n",
       "1  December 22, 1995     Unreleased  Unreleased      1995-12-22   \n",
       "2      July 28, 1992     Unreleased  Unreleased      1992-07-28   \n",
       "3      July 23, 1993     Unreleased  Unreleased      1993-07-23   \n",
       "4      July 14, 1995     Unreleased  Unreleased      1995-07-14   \n",
       "\n",
       "  Realese_North_America Realese_PAL_region  Year_JP  Month_JP  \\\n",
       "0            1994-06-19                NaT     <NA>      <NA>   \n",
       "1                   NaT                NaT     1995        12   \n",
       "2                   NaT                NaT     1992         7   \n",
       "3                   NaT                NaT     1993         7   \n",
       "4                   NaT                NaT     1995         7   \n",
       "\n",
       "   Year_North_America  Month_North_America  Year_PAL  Month_PAL  \n",
       "0                1994                    6      <NA>       <NA>  \n",
       "1                <NA>                 <NA>      <NA>       <NA>  \n",
       "2                <NA>                 <NA>      <NA>       <NA>  \n",
       "3                <NA>                 <NA>      <NA>       <NA>  \n",
       "4                <NA>                 <NA>      <NA>       <NA>  "
      ]
     },
     "execution_count": 18,
     "metadata": {},
     "output_type": "execute_result"
    }
   ],
   "source": [
    "df.head()"
   ]
  },
  {
   "cell_type": "code",
   "execution_count": null,
   "id": "15a4e9f3",
   "metadata": {},
   "outputs": [],
   "source": [
    "df['Developer(s)'].unique()"
   ]
  },
  {
   "cell_type": "code",
   "execution_count": 20,
   "id": "57cb195a",
   "metadata": {},
   "outputs": [],
   "source": [
    "#Some cells in developers has empty values but they are not NaN, so I will replace \" \" for NaN\n",
    "\n",
    "df_dev = df.replace(r'^\\s*$', np.nan, regex=True)\n",
    "\n",
    "df_dev= df_dev[df_dev['Developer(s)'].notna()] #droping NaN\n",
    "df_dev = df_dev.groupby('Developer(s)').count() #counting the devs\n",
    "\n",
    "df_dev = df_dev.sort_values('Title', ascending=False)\n",
    "df_dev = df_dev.head(20) #getting only the 20 first developers, which more developed games."
   ]
  },
  {
   "cell_type": "code",
   "execution_count": 21,
   "id": "3a2a057a",
   "metadata": {
    "scrolled": false
   },
   "outputs": [
    {
     "data": {
      "image/png": "[encoded data removed]",
      "text/plain": [
       "<Figure size 864x432 with 1 Axes>"
      ]
     },
     "metadata": {
      "needs_background": "light"
     },
     "output_type": "display_data"
    }
   ],
   "source": [
    "fig = plt.figure(figsize=(12, 6))\n",
    "\n",
    "sns.barplot(data=df_dev, x=df_dev.index, y=\"Title\")\n",
    "plt.xticks(rotation = 'vertical')\n",
    "\n",
    "plt.xlabel('Developer')\n",
    "plt.ylabel('Number of games')\n",
    "plt.title(\"Top 20 developers\", fontsize=15)\n",
    "\n",
    "plt.show()\n",
    "\n",
    "fig.savefig(image_path + 'top_developers.png', dpi = 300, bbox_inches=\"tight\")"
   ]
  },
  {
   "cell_type": "markdown",
   "id": "adda9017",
   "metadata": {},
   "source": [
    "#### Incredibly Nintendo itself is not the most developer of snes games."
   ]
  },
  {
   "cell_type": "markdown",
   "id": "8bccdeae",
   "metadata": {},
   "source": [
    "#### Plotting the history of releasing games in Japan for the 1990 year."
   ]
  },
  {
   "cell_type": "code",
   "execution_count": 22,
   "id": "0699d286",
   "metadata": {},
   "outputs": [
    {
     "data": {
      "text/html": [
       "<div>\n",
       "<style scoped>\n",
       "    .dataframe tbody tr th:only-of-type {\n",
       "        vertical-align: middle;\n",
       "    }\n",
       "\n",
       "    .dataframe tbody tr th {\n",
       "        vertical-align: top;\n",
       "    }\n",
       "\n",
       "    .dataframe thead th {\n",
       "        text-align: right;\n",
       "    }\n",
       "</style>\n",
       "<table border=\"1\" class=\"dataframe\">\n",
       "  <thead>\n",
       "    <tr style=\"text-align: right;\">\n",
       "      <th></th>\n",
       "      <th>Title</th>\n",
       "      <th>Developer(s)</th>\n",
       "      <th>Publisher(s)</th>\n",
       "      <th>Japan</th>\n",
       "      <th>North_America</th>\n",
       "      <th>PAL_region</th>\n",
       "      <th>Ref.</th>\n",
       "      <th>Realese_JP</th>\n",
       "      <th>Realese_North_America</th>\n",
       "      <th>Realese_PAL_region</th>\n",
       "      <th>Year_JP</th>\n",
       "      <th>Month_JP</th>\n",
       "      <th>Year_North_America</th>\n",
       "      <th>Month_North_America</th>\n",
       "      <th>Year_PAL</th>\n",
       "      <th>Month_PAL</th>\n",
       "    </tr>\n",
       "  </thead>\n",
       "  <tbody>\n",
       "    <tr>\n",
       "      <th>0</th>\n",
       "      <td>3 Ninjas Kick Back</td>\n",
       "      <td>Malibu Interactive</td>\n",
       "      <td>Sony Imagesoft</td>\n",
       "      <td>Unreleased</td>\n",
       "      <td>June 19, 1994</td>\n",
       "      <td>Unreleased</td>\n",
       "      <td></td>\n",
       "      <td>NaT</td>\n",
       "      <td>1994-06-19</td>\n",
       "      <td>NaT</td>\n",
       "      <td>&lt;NA&gt;</td>\n",
       "      <td>&lt;NA&gt;</td>\n",
       "      <td>1994</td>\n",
       "      <td>6</td>\n",
       "      <td>&lt;NA&gt;</td>\n",
       "      <td>&lt;NA&gt;</td>\n",
       "    </tr>\n",
       "    <tr>\n",
       "      <th>1</th>\n",
       "      <td>3×3 Eyes Juuma Houkan</td>\n",
       "      <td>System Supply N-Tech</td>\n",
       "      <td>Banpresto</td>\n",
       "      <td>December 22, 1995</td>\n",
       "      <td>Unreleased</td>\n",
       "      <td>Unreleased</td>\n",
       "      <td></td>\n",
       "      <td>1995-12-22</td>\n",
       "      <td>NaT</td>\n",
       "      <td>NaT</td>\n",
       "      <td>1995</td>\n",
       "      <td>12</td>\n",
       "      <td>&lt;NA&gt;</td>\n",
       "      <td>&lt;NA&gt;</td>\n",
       "      <td>&lt;NA&gt;</td>\n",
       "      <td>&lt;NA&gt;</td>\n",
       "    </tr>\n",
       "    <tr>\n",
       "      <th>2</th>\n",
       "      <td>3×3 Eyes Seima Kourin-den</td>\n",
       "      <td>Nova Games</td>\n",
       "      <td>Yutaka</td>\n",
       "      <td>July 28, 1992</td>\n",
       "      <td>Unreleased</td>\n",
       "      <td>Unreleased</td>\n",
       "      <td></td>\n",
       "      <td>1992-07-28</td>\n",
       "      <td>NaT</td>\n",
       "      <td>NaT</td>\n",
       "      <td>1992</td>\n",
       "      <td>7</td>\n",
       "      <td>&lt;NA&gt;</td>\n",
       "      <td>&lt;NA&gt;</td>\n",
       "      <td>&lt;NA&gt;</td>\n",
       "      <td>&lt;NA&gt;</td>\n",
       "    </tr>\n",
       "    <tr>\n",
       "      <th>3</th>\n",
       "      <td>3rd Super Robot Wars</td>\n",
       "      <td>Banpresto</td>\n",
       "      <td>Banpresto</td>\n",
       "      <td>July 23, 1993</td>\n",
       "      <td>Unreleased</td>\n",
       "      <td>Unreleased</td>\n",
       "      <td></td>\n",
       "      <td>1993-07-23</td>\n",
       "      <td>NaT</td>\n",
       "      <td>NaT</td>\n",
       "      <td>1993</td>\n",
       "      <td>7</td>\n",
       "      <td>&lt;NA&gt;</td>\n",
       "      <td>&lt;NA&gt;</td>\n",
       "      <td>&lt;NA&gt;</td>\n",
       "      <td>&lt;NA&gt;</td>\n",
       "    </tr>\n",
       "    <tr>\n",
       "      <th>4</th>\n",
       "      <td>4 Nin Shougi</td>\n",
       "      <td>Planning Office Wada</td>\n",
       "      <td>Planning Office Wada</td>\n",
       "      <td>July 14, 1995</td>\n",
       "      <td>Unreleased</td>\n",
       "      <td>Unreleased</td>\n",
       "      <td></td>\n",
       "      <td>1995-07-14</td>\n",
       "      <td>NaT</td>\n",
       "      <td>NaT</td>\n",
       "      <td>1995</td>\n",
       "      <td>7</td>\n",
       "      <td>&lt;NA&gt;</td>\n",
       "      <td>&lt;NA&gt;</td>\n",
       "      <td>&lt;NA&gt;</td>\n",
       "      <td>&lt;NA&gt;</td>\n",
       "    </tr>\n",
       "  </tbody>\n",
       "</table>\n",
       "</div>"
      ],
      "text/plain": [
       "                       Title          Developer(s)          Publisher(s)  \\\n",
       "0         3 Ninjas Kick Back    Malibu Interactive        Sony Imagesoft   \n",
       "1      3×3 Eyes Juuma Houkan  System Supply N-Tech             Banpresto   \n",
       "2  3×3 Eyes Seima Kourin-den            Nova Games                Yutaka   \n",
       "3       3rd Super Robot Wars             Banpresto             Banpresto   \n",
       "4               4 Nin Shougi  Planning Office Wada  Planning Office Wada   \n",
       "\n",
       "               Japan  North_America  PAL_region Ref. Realese_JP  \\\n",
       "0         Unreleased  June 19, 1994  Unreleased             NaT   \n",
       "1  December 22, 1995     Unreleased  Unreleased      1995-12-22   \n",
       "2      July 28, 1992     Unreleased  Unreleased      1992-07-28   \n",
       "3      July 23, 1993     Unreleased  Unreleased      1993-07-23   \n",
       "4      July 14, 1995     Unreleased  Unreleased      1995-07-14   \n",
       "\n",
       "  Realese_North_America Realese_PAL_region  Year_JP  Month_JP  \\\n",
       "0            1994-06-19                NaT     <NA>      <NA>   \n",
       "1                   NaT                NaT     1995        12   \n",
       "2                   NaT                NaT     1992         7   \n",
       "3                   NaT                NaT     1993         7   \n",
       "4                   NaT                NaT     1995         7   \n",
       "\n",
       "   Year_North_America  Month_North_America  Year_PAL  Month_PAL  \n",
       "0                1994                    6      <NA>       <NA>  \n",
       "1                <NA>                 <NA>      <NA>       <NA>  \n",
       "2                <NA>                 <NA>      <NA>       <NA>  \n",
       "3                <NA>                 <NA>      <NA>       <NA>  \n",
       "4                <NA>                 <NA>      <NA>       <NA>  "
      ]
     },
     "execution_count": 22,
     "metadata": {},
     "output_type": "execute_result"
    }
   ],
   "source": [
    "df.head()"
   ]
  },
  {
   "cell_type": "code",
   "execution_count": 23,
   "id": "d661d47c",
   "metadata": {},
   "outputs": [
    {
     "data": {
      "image/png": "[encoded data removed]",
      "text/plain": [
       "<Figure size 720x360 with 1 Axes>"
      ]
     },
     "metadata": {
      "needs_background": "light"
     },
     "output_type": "display_data"
    }
   ],
   "source": [
    "df_release_JP = df[df['Realese_JP'].notna()]\n",
    "df_release_JP_1990 = df_release_JP.loc[df_release_JP['Year_JP'] == 1990]\n",
    "df_release_JP_1990 = df_release_JP_1990.sort_values('Realese_JP', ascending=False)\n",
    "dates = df_release_JP_1990['Realese_JP']\n",
    "names = df_release_JP_1990['Title']\n",
    "\n",
    "import matplotlib.dates as mdates\n",
    "\n",
    "# Choose some nice levels\n",
    "levels = np.tile([-5, 5, -3, 3, -1, 1],\n",
    "                 int(np.ceil(len(dates)/6)))[:len(dates)]\n",
    "\n",
    "# Create figure and plot a stem plot with the date\n",
    "fig, ax = plt.subplots(figsize=(10, 5), constrained_layout=True)\n",
    "ax.set(title=\"History: Games released in 1990 in Japan\")\n",
    "\n",
    "ax.vlines(dates, 0, levels, color=\"tab:red\")  # The vertical stems.\n",
    "ax.plot(dates, np.zeros_like(dates), \"-o\",\n",
    "        color=\"k\", markerfacecolor=\"w\")  # Baseline and markers on it.\n",
    "\n",
    "# annotate lines\n",
    "for d, l, r in zip(dates, levels, names):\n",
    "    ax.annotate(r, xy=(d, l),\n",
    "                xytext=(-3, np.sign(l)*3), textcoords=\"offset points\",\n",
    "                horizontalalignment=\"right\",\n",
    "                verticalalignment=\"bottom\" if l > 0 else \"top\")\n",
    "\n",
    "# format xaxis with 3 days intervals\n",
    "ax.xaxis.set_major_locator(mdates.DayLocator(interval=3))\n",
    "ax.xaxis.set_major_formatter(mdates.DateFormatter(\"%d %b %Y\"))\n",
    "plt.setp(ax.get_xticklabels(), rotation=30, ha=\"right\")\n",
    "\n",
    "# remove y axis and spines\n",
    "ax.yaxis.set_visible(False)\n",
    "ax.spines[[\"left\", \"top\", \"right\"]].set_visible(False)\n",
    "\n",
    "ax.margins(y=0.1)\n",
    "plt.show()\n",
    "\n",
    "fig.savefig(image_path + 'history_japan_1990.png')"
   ]
  },
  {
   "cell_type": "markdown",
   "id": "6d529c3d",
   "metadata": {},
   "source": [
    "#### The classics Super Mario World and F-zero were the first games released in Super Nintendo."
   ]
  },
  {
   "cell_type": "code",
   "execution_count": 123,
   "id": "c837e157",
   "metadata": {},
   "outputs": [],
   "source": [
    "#Saving this data which we scrapped from wikipedia.\n",
    "\n",
    "df.to_csv('./snes_data.csv')"
   ]
  }
 ],
 "metadata": {
  "kernelspec": {
   "display_name": "Python 3 (ipykernel)",
   "language": "python",
   "name": "python3"
  },
  "language_info": {
   "codemirror_mode": {
    "name": "ipython",
    "version": 3
   },
   "file_extension": ".py",
   "mimetype": "text/x-python",
   "name": "python",
   "nbconvert_exporter": "python",
   "pygments_lexer": "ipython3",
   "version": "3.9.7"
  }
 },
 "nbformat": 4,
 "nbformat_minor": 5
}
